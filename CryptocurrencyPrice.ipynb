{
  "nbformat": 4,
  "nbformat_minor": 0,
  "metadata": {
    "colab": {
      "provenance": [],
      "authorship_tag": "ABX9TyOAxAYR8FNPSp37uNp/kGoa",
      "include_colab_link": true
    },
    "kernelspec": {
      "name": "python3",
      "display_name": "Python 3"
    },
    "language_info": {
      "name": "python"
    }
  },
  "cells": [
    {
      "cell_type": "markdown",
      "metadata": {
        "id": "view-in-github",
        "colab_type": "text"
      },
      "source": [
        "<a href=\"https://colab.research.google.com/github/willyudi/Jupyter/blob/master/CryptocurrencyPrice.ipynb\" target=\"_parent\"><img src=\"https://colab.research.google.com/assets/colab-badge.svg\" alt=\"Open In Colab\"/></a>"
      ]
    },
    {
      "cell_type": "markdown",
      "source": [
        "Primeiro vamos instalar a biblioteca \"Requests\" para a integração com a API do **coinmarketcap.com**"
      ],
      "metadata": {
        "id": "7finb7dBxQfi"
      }
    },
    {
      "cell_type": "code",
      "execution_count": 1,
      "metadata": {
        "colab": {
          "base_uri": "https://localhost:8080/"
        },
        "id": "Y2pik4D9rqo3",
        "outputId": "TESTE"
      },
      "outputs": [
        {
          "output_type": "stream",
          "name": "stdout",
          "text": [
            "Requirement already satisfied: requests in /usr/local/lib/python3.10/dist-packages (2.31.0)\n",
            "Requirement already satisfied: charset-normalizer<4,>=2 in /usr/local/lib/python3.10/dist-packages (from requests) (3.3.2)\n",
            "Requirement already satisfied: idna<4,>=2.5 in /usr/local/lib/python3.10/dist-packages (from requests) (3.7)\n",
            "Requirement already satisfied: urllib3<3,>=1.21.1 in /usr/local/lib/python3.10/dist-packages (from requests) (2.0.7)\n",
            "Requirement already satisfied: certifi>=2017.4.17 in /usr/local/lib/python3.10/dist-packages (from requests) (2024.7.4)\n"
          ]
        }
      ],
      "source": [
        "!pip install requests"
      ]
    },
    {
      "cell_type": "code",
      "source": [
        "import requests\n",
        "import json\n",
        "\n",
        "url = \"https://pro-api.coinmarketcap.com/v1/cryptocurrency/quotes/latest\"\n",
        "params = {\n",
        "    \"symbol\": \"BTC,ADA,ETH\",  # Replace with the desired cryptocurrency symbols separated by commas\n",
        "    \"convert\": \"BRL\"  # Add the desired currency symbols for conversion separated by commas\n",
        "}\n",
        "headers = {\n",
        "    \"X-CMC_PRO_API_KEY\": \"d46a8f41-8ddb-47f1-8a08-f05bb254cb9d\",  # Replace with your actual CoinMarketCap API key\n",
        "}\n",
        "response = requests.get(url, params=params, headers=headers)\n",
        "data = json.loads(response.text)\n",
        "\n",
        "bitcoin_price_brl = data[\"data\"][\"BTC\"][\"quote\"][\"BRL\"][\"price\"]\n",
        "\n",
        "cardano_price_brl = data[\"data\"][\"ADA\"][\"quote\"][\"BRL\"][\"price\"]\n",
        "\n",
        "ethereum_price_brl = data[\"data\"][\"ETH\"][\"quote\"][\"BRL\"][\"price\"]\n",
        "\n",
        "print(f\"The current price of Bitcoin in BRL is R${bitcoin_price_brl}\")\n",
        "\n",
        "print(f\"The current price of Cardano in BRL is R${cardano_price_brl}\")\n",
        "\n",
        "print(f\"The current price of Ethereum in BRL is R${ethereum_price_brl}\")"
      ],
      "metadata": {
        "colab": {
          "base_uri": "https://localhost:8080/"
        },
        "id": "GOyE5AunvlHu",
        "outputId": "3971c639-58c3-4e77-bbfc-d151b8baea33"
      },
      "execution_count": 16,
      "outputs": [
        {
          "output_type": "stream",
          "name": "stdout",
          "text": [
            "The current price of Bitcoin in BRL is R$377188.76649274764\n",
            "The current price of Cardano in BRL is R$2.4476524855611936\n",
            "The current price of Ethereum in BRL is R$19733.604690563847\n"
          ]
        }
      ]
    }
  ]
}
